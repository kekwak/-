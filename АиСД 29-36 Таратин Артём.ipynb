{
 "cells": [
  {
   "cell_type": "markdown",
   "metadata": {},
   "source": [
    "# <font color='Teal'>**Алгоритмы и структуры данных в языке Python (часть 4)**"
   ]
  },
  {
   "cell_type": "markdown",
   "metadata": {},
   "source": [
    "## <font color='#4281a4'>**Таратин Артём**. Вариант 10"
   ]
  },
  {
   "cell_type": "markdown",
   "metadata": {},
   "source": [
    "---"
   ]
  },
  {
   "cell_type": "code",
   "execution_count": 1,
   "metadata": {},
   "outputs": [],
   "source": [
    "import numpy as np\n",
    "from functools import reduce\n",
    "import random\n",
    "import datetime\n",
    "import time"
   ]
  },
  {
   "cell_type": "markdown",
   "metadata": {},
   "source": [
    "### <font color='Teal'>**Задача 29.** СТЕК\n",
    "\n",
    "<font size='3' color='#4281a4'>Дан стек. Необходимо проверить, является ли его содержимое последовательностью арифметической прогрессии."
   ]
  },
  {
   "cell_type": "markdown",
   "metadata": {},
   "source": [
    "### <font color='Teal'>**Решение**"
   ]
  },
  {
   "cell_type": "code",
   "execution_count": 7,
   "metadata": {},
   "outputs": [],
   "source": [
    "class Node:\n",
    "    def __init__(self, data):\n",
    "        self.data = data\n",
    "        self.next = None\n",
    "\n",
    "class Stack:\n",
    "    def __init__(self):\n",
    "        self.head = None\n",
    "\n",
    "    def is_empty(self):\n",
    "        return self.head is None\n",
    "\n",
    "    def push(self, item):\n",
    "        new_node = Node(item)\n",
    "        new_node.next = self.head\n",
    "        self.head = new_node\n",
    "\n",
    "    def pop(self):\n",
    "        if self.is_empty():\n",
    "            return None\n",
    "        else:\n",
    "            popped_item = self.head.data\n",
    "            self.head = self.head.next\n",
    "            return popped_item\n",
    "\n",
    "    def peek(self):\n",
    "        if self.is_empty():\n",
    "            return None\n",
    "        else:\n",
    "            return self.head.data\n",
    "\n",
    "    def __str__(self):\n",
    "        current = self.head\n",
    "        stack_str = \"\"\n",
    "        while current:\n",
    "            stack_str += str(current.data) + \" → \"\n",
    "            current = current.next\n",
    "        return stack_str.rstrip(\" → \")\n",
    "    \n",
    "    def is_arithmetic_progression(self):\n",
    "        tmp_stack = Stack()\n",
    "        data = set()\n",
    "\n",
    "        while not self.is_empty():\n",
    "            item = self.pop()\n",
    "            tmp_stack.push(item)\n",
    "            if self.peek():\n",
    "                data.add(item - self.peek())\n",
    "\n",
    "        while not tmp_stack.is_empty():\n",
    "            self.push(tmp_stack.pop())\n",
    "\n",
    "        return len(data) == 1"
   ]
  },
  {
   "cell_type": "code",
   "execution_count": 8,
   "metadata": {},
   "outputs": [
    {
     "name": "stdout",
     "output_type": "stream",
     "text": [
      "Стек: 8 → 6 → 4 → 2 → 0: True\n",
      "Стек: 1 → 8 → 6 → 4 → 2 → 0: False\n"
     ]
    }
   ],
   "source": [
    "stack = Stack()\n",
    "for item in range(0, 10, 2):  # заполняем стек данными\n",
    "    stack.push(item)\n",
    "\n",
    "print(f'Стек: {stack}: {stack.is_arithmetic_progression()}')\n",
    "\n",
    "stack.push(1)  # добавляем лишнюю 1\n",
    "print(f'Стек: {stack}: {stack.is_arithmetic_progression()}')"
   ]
  },
  {
   "cell_type": "markdown",
   "metadata": {},
   "source": [
    "---"
   ]
  },
  {
   "cell_type": "markdown",
   "metadata": {},
   "source": [
    "### <font color='Teal'>**Задача 30.** ОЧЕРЕДЬ\n",
    "\n",
    "<font size='3' color='#4281a4'>Создать класс очереди, который будет хранить только элементы определенного типа данных. Тип элементов задается при инициализации объекта класса очереди. При добавлении элемента, если его тип не соответствует заданному, то он не должен добавляться."
   ]
  },
  {
   "cell_type": "markdown",
   "metadata": {},
   "source": [
    "### <font color='Teal'>**Решение**"
   ]
  },
  {
   "cell_type": "code",
   "execution_count": 19,
   "metadata": {},
   "outputs": [],
   "source": [
    "class Node:\n",
    "    def __init__(self, data):\n",
    "        self.data = data\n",
    "        self.next = None\n",
    "\n",
    "class Queue:\n",
    "    def __init__(self, t=int):\n",
    "        self.head = None\n",
    "        self.tail = None\n",
    "        self.Type = t\n",
    "\n",
    "    def is_empty(self):\n",
    "        return not bool(self.head)\n",
    "\n",
    "    def enqueue(self, data):\n",
    "        if self.Type != type(data):\n",
    "            print(f'type of {data} != {self.Type.__name__} ({type(data).__name__})')\n",
    "            return 0\n",
    "        new_node = Node(data)\n",
    "        if not self.head:\n",
    "            self.head = new_node\n",
    "            self.tail = new_node\n",
    "        else:\n",
    "            self.tail.next = new_node\n",
    "            self.tail = new_node\n",
    "\n",
    "    def dequeue(self):\n",
    "        data = self.head.data\n",
    "        self.head = self.head.next\n",
    "        if not self.head:\n",
    "            self.tail = None\n",
    "        return data\n",
    "\n",
    "    def __str__(self):\n",
    "        current = self.head\n",
    "        queue_str = \"\"\n",
    "        while current:\n",
    "            queue_str += \" → \" + str(current.data)\n",
    "            current = current.next\n",
    "        return queue_str.lstrip(\" → \")"
   ]
  },
  {
   "cell_type": "code",
   "execution_count": 21,
   "metadata": {},
   "outputs": [
    {
     "name": "stdout",
     "output_type": "stream",
     "text": [
      "type of 112 != int (str)\n",
      "type of abs != int (str)\n",
      "type of some_str != int (str)\n",
      "type of (12, 23, True) != int (tuple)\n",
      "type of False != int (bool)\n",
      "type of [] != int (list)\n",
      "type of 14 != str (int)\n",
      "type of 23 != str (int)\n",
      "type of 97 != str (int)\n",
      "type of (12, 23, True) != str (tuple)\n",
      "type of False != str (bool)\n",
      "type of [] != str (list)\n"
     ]
    },
    {
     "data": {
      "text/plain": [
       "('14 → 23 → 97', '112 → abs → some_str')"
      ]
     },
     "execution_count": 21,
     "metadata": {},
     "output_type": "execute_result"
    }
   ],
   "source": [
    "#def exhaust(generator):  # чтобы не создавать список\n",
    "    #return deque(generator, maxlen=0)  # []\n",
    "\n",
    "a, b = Queue(int), Queue(str)\n",
    "dt = [14, 23, '112', 97, 'abs', 'some_str', (12, 23, True), False, list()]\n",
    "\n",
    "list(i.enqueue(j) for i in [a,b] for j in dt)\n",
    "#exhaust(i.enqueue(j) for i in [a,b] for j in dt)\n",
    "\n",
    "a.__str__(), b.__str__()"
   ]
  },
  {
   "cell_type": "markdown",
   "metadata": {},
   "source": [
    "---"
   ]
  },
  {
   "cell_type": "markdown",
   "metadata": {},
   "source": [
    "### <font color='Teal'>**Задача 31.** СОЗДАНИЕ ДВУСВЯЗНОГО СПИСКА\n",
    "\n",
    "<font size='3' color='#4281a4'>Создайте двусвязный список для хранения информации о заказах в интернет-магазине. Каждый элемент списка должен содержать номер заказа, дату создания, список товаров, их количество и стоимость, а также информацию о доставке и оплате."
   ]
  },
  {
   "cell_type": "markdown",
   "metadata": {},
   "source": [
    "### <font color='Teal'>**Решение**"
   ]
  },
  {
   "cell_type": "code",
   "execution_count": 2,
   "metadata": {},
   "outputs": [],
   "source": [
    "class Node:\n",
    "    def __init__(self, pid, date, goods, costs, delivery, payment):\n",
    "        self.prev = None\n",
    "        self.next = None\n",
    "        self.pid, self.date, self.goods, self.costs = pid, date, goods, costs\n",
    "        self.delivery, self.payment = delivery, payment\n",
    "        self.length = len(goods)\n",
    "\n",
    "class DoublyLinkedList:\n",
    "    def __init__(self):\n",
    "        self.head = None\n",
    "\n",
    "    def add_node(self, pid, date, goods, costs, delivery, paymen):\n",
    "        new_node = Node(pid, date, goods, costs, delivery, paymen)\n",
    "        if self.head is None:\n",
    "            self.head = new_node\n",
    "        else:\n",
    "            current = self.head\n",
    "            while current.next is not None:\n",
    "                current = current.next\n",
    "            current.next = new_node\n",
    "            new_node.prev = current\n",
    "\n",
    "    def delete_node(self, data):\n",
    "        if self.head is None:\n",
    "            return\n",
    "        elif self.head.data == data:\n",
    "            self.head = self.head.next\n",
    "            self.head.prev = None\n",
    "        else:\n",
    "            current = self.head\n",
    "            while current.next is not None and current.next.data != data:\n",
    "                current = current.next\n",
    "            if current.next is None:\n",
    "                return\n",
    "            else:\n",
    "                current.next = current.next.next\n",
    "                if current.next is not None:\n",
    "                    current.next.prev = current\n",
    "\n",
    "    def __len__(self):\n",
    "        count = 0\n",
    "        current = self.head\n",
    "        while current:\n",
    "            count += 1\n",
    "            current = current.next\n",
    "        return count\n",
    "\n",
    "    def __str__(self):\n",
    "        current = self.head\n",
    "        dllist_str = \"\"\n",
    "        while current:\n",
    "            tmpd = list(map(str, [current.pid, current.date, current.goods, current.length, current.costs, current.delivery, current.payment]))\n",
    "            dllist_str += \" ⇄ \" + f'pid: {tmpd[0]}, date: {tmpd[1]}, goods: {tmpd[2]}, len: {tmpd[3]}, cost: {tmpd[4]}, delivery: {tmpd[5]}, pay method: {tmpd[6]}'\n",
    "            current = current.next\n",
    "        return dllist_str.lstrip(\" ⇄ \")  "
   ]
  },
  {
   "cell_type": "code",
   "execution_count": 3,
   "metadata": {},
   "outputs": [
    {
     "data": {
      "text/plain": [
       "\"pid: 556421, date: 20.01.2021, goods: ['good1', 'good2'], len: 2, cost: 1575, delivery: Moscow, Local str., 24, 279, pay method: card ⇄ pid: 557841, date: 17.08.2022, goods: ['good1', 'good2', 'good3', 'good4'], len: 4, cost: 18979, delivery: Moscow, Local str., 19, 441, pay method: card\""
      ]
     },
     "execution_count": 3,
     "metadata": {},
     "output_type": "execute_result"
    }
   ],
   "source": [
    "a = DoublyLinkedList()\n",
    "a.add_node(556421, '20.01.2021', ['good1', 'good2'], 1575, 'Moscow, Local str., 24, 279', 'card')\n",
    "a.add_node(557841, '17.08.2022', ['good1', 'good2', 'good3', 'good4'], 18979, 'Moscow, Local str., 19, 441', 'card')\n",
    "a.__str__()"
   ]
  },
  {
   "cell_type": "markdown",
   "metadata": {},
   "source": [
    "---"
   ]
  },
  {
   "cell_type": "markdown",
   "metadata": {},
   "source": [
    "### <font color='Teal'>**Задача 32.** РАБОТА С ДВУСВЯЗНЫМ СПИСКОМ\n",
    "\n",
    "<font size='3' color='#4281a4'>Реализовать функцию, которая разделяет двусвязный список на два списка, один из которых содержит все элементы, меньшие заданного значения, а другой — все элементы, большие или равные заданному значению."
   ]
  },
  {
   "cell_type": "markdown",
   "metadata": {},
   "source": [
    "### <font color='Teal'>**Решение**"
   ]
  },
  {
   "cell_type": "code",
   "execution_count": 5,
   "metadata": {},
   "outputs": [],
   "source": [
    "class Node:\n",
    "    def __init__(self, data):\n",
    "        self.data = data\n",
    "        self.prev = None\n",
    "        self.next = None\n",
    "\n",
    "class DoublyLinkedList:\n",
    "    def __init__(self):\n",
    "        self.head = None\n",
    "\n",
    "    def add_node(self, data):\n",
    "        new_node = Node(data)\n",
    "        if self.head is None:\n",
    "            self.head = new_node\n",
    "        else:\n",
    "            current = self.head\n",
    "            while current.next is not None:\n",
    "                current = current.next\n",
    "            current.next = new_node\n",
    "            new_node.prev = current\n",
    "\n",
    "    def delete_node(self, data):\n",
    "        if self.head is None:\n",
    "            return\n",
    "        elif self.head.data == data:\n",
    "            self.head = self.head.next\n",
    "            self.head.prev = None\n",
    "        else:\n",
    "            current = self.head\n",
    "            while current.next is not None and current.next.data != data:\n",
    "                current = current.next\n",
    "            if current.next is None:\n",
    "                return\n",
    "            else:\n",
    "                current.next = current.next.next\n",
    "                if current.next is not None:\n",
    "                    current.next.prev = current\n",
    "\n",
    "    def __len__(self):\n",
    "        count = 0\n",
    "        current = self.head\n",
    "        while current:\n",
    "            count += 1\n",
    "            current = current.next\n",
    "        return count\n",
    "\n",
    "    def __str__(self):\n",
    "        current = self.head\n",
    "        dllist_str = \"\"\n",
    "        while current:\n",
    "            dllist_str += \" ⇄ \" + str(current.data)\n",
    "            current = current.next\n",
    "        return dllist_str.lstrip(\" ⇄ \")"
   ]
  },
  {
   "cell_type": "code",
   "execution_count": 6,
   "metadata": {},
   "outputs": [],
   "source": [
    "def ns(dllist, p):\n",
    "    current_node = dllist.head\n",
    "    a, b = DoublyLinkedList(), DoublyLinkedList()\n",
    "    while current_node:\n",
    "        if current_node.data < p:\n",
    "            a.add_node(current_node.data)\n",
    "            current_node = current_node.next\n",
    "        else:\n",
    "            b.add_node(current_node.data)\n",
    "            current_node = current_node.next\n",
    "    return a, b"
   ]
  },
  {
   "cell_type": "code",
   "execution_count": 7,
   "metadata": {},
   "outputs": [
    {
     "data": {
      "text/plain": [
       "['36 ⇄ 9 ⇄ 6 ⇄ 7 ⇄ 37', '61 ⇄ 80 ⇄ 61']"
      ]
     },
     "execution_count": 7,
     "metadata": {},
     "output_type": "execute_result"
    }
   ],
   "source": [
    "c = DoublyLinkedList()\n",
    "\n",
    "for item in range(0, 8):  # заполняем стек данными\n",
    "    c.add_node(random.randint(0, 100))\n",
    "    \n",
    "list(map(lambda x: x.__str__(), ns(c, 50)))  # вывод информации через __str__"
   ]
  },
  {
   "cell_type": "markdown",
   "metadata": {},
   "source": [
    "---"
   ]
  },
  {
   "cell_type": "markdown",
   "metadata": {},
   "source": [
    "### <font color='Teal'>**Задача 33.** ЦИКЛИЧЕСКИЙ ДВУСВЯЗНЫЙ СПИСОК\n",
    "\n",
    "<font size='3' color='#4281a4'>Реализовать функцию, которая проверяет, содержится ли заданный элемент в циклическом двусвязном списке."
   ]
  },
  {
   "cell_type": "markdown",
   "metadata": {},
   "source": [
    "### <font color='Teal'>**Решение**"
   ]
  },
  {
   "cell_type": "code",
   "execution_count": 8,
   "metadata": {},
   "outputs": [],
   "source": [
    "class Node:\n",
    "    def __init__(self, data=None):\n",
    "        self.data = data\n",
    "        self.prev = None\n",
    "        self.next = None\n",
    "\n",
    "class CircularDoublyLinkedList:\n",
    "    def __init__(self):\n",
    "        self.head = None\n",
    "        self.tail = None\n",
    "\n",
    "    def append(self, data):\n",
    "        new_node = Node(data)\n",
    "        if self.head is None:\n",
    "            self.head = new_node\n",
    "            self.tail = new_node\n",
    "            new_node.prev = self.tail\n",
    "            new_node.next = self.head\n",
    "        else:\n",
    "            new_node.prev = self.tail\n",
    "            new_node.next = self.head\n",
    "            self.tail.next = new_node\n",
    "            self.head.prev = new_node\n",
    "            self.tail = new_node\n",
    "\n",
    "    def prepend(self, data):\n",
    "        new_node = Node(data)\n",
    "        if self.head is None:\n",
    "            self.head = new_node\n",
    "            self.tail = new_node\n",
    "            new_node.prev = self.tail\n",
    "            new_node.next = self.head\n",
    "        else:\n",
    "            new_node.prev = self.tail\n",
    "            new_node.next = self.head\n",
    "            self.head.prev = new_node\n",
    "            self.tail.next = new_node\n",
    "            self.head = new_node\n",
    "\n",
    "    def delete(self, key):\n",
    "        current_node = self.head\n",
    "        while current_node:\n",
    "            if current_node.data == key:\n",
    "                if current_node == self.head:\n",
    "                    self.head = current_node.next\n",
    "                    self.tail.next = self.head\n",
    "                    self.head.prev = self.tail\n",
    "                elif current_node == self.tail:\n",
    "                    self.tail = current_node.prev\n",
    "                    self.head.prev = self.tail\n",
    "                    self.tail.next = self.head\n",
    "                else:\n",
    "                    current_node.prev.next = current_node.next\n",
    "                    current_node.next.prev = current_node.prev\n",
    "                return\n",
    "            current_node = current_node.next\n",
    "\n",
    "    def __len__(self):\n",
    "        count = 0\n",
    "        current_node = self.head\n",
    "        while current_node:\n",
    "            count += 1\n",
    "            current_node = current_node.next\n",
    "            if current_node == self.head:\n",
    "                break\n",
    "        return count\n",
    "\n",
    "    def __str__(self):\n",
    "        cdllist_str = \"\"\n",
    "        current_node = self.head\n",
    "        while current_node:\n",
    "            cdllist_str += str(current_node.data) + \" ⇄ \"\n",
    "            current_node = current_node.next\n",
    "            if current_node == self.head:\n",
    "                break\n",
    "        return \" ⇄ \" + cdllist_str"
   ]
  },
  {
   "cell_type": "code",
   "execution_count": 9,
   "metadata": {},
   "outputs": [],
   "source": [
    "def is_in_list(cdll, p):\n",
    "    current_node = cdll.head\n",
    "    while current_node:\n",
    "        if p == current_node.data:\n",
    "            return True\n",
    "        current_node = current_node.next\n",
    "        if current_node == cdll.head:\n",
    "            return False"
   ]
  },
  {
   "cell_type": "code",
   "execution_count": 10,
   "metadata": {},
   "outputs": [
    {
     "data": {
      "text/plain": [
       "' ⇄ 76 ⇄ 94 ⇄ 63 ⇄ 90 ⇄ 2 ⇄ 8 ⇄ 14 ⇄ 91 ⇄ '"
      ]
     },
     "execution_count": 10,
     "metadata": {},
     "output_type": "execute_result"
    }
   ],
   "source": [
    "a = CircularDoublyLinkedList()\n",
    "\n",
    "for item in range(0, 8):  # заполняем стек данными\n",
    "    a.append(random.randint(0, 100))\n",
    "\n",
    "a.__str__()"
   ]
  },
  {
   "cell_type": "code",
   "execution_count": 11,
   "metadata": {},
   "outputs": [
    {
     "data": {
      "text/plain": [
       "(False, False)"
      ]
     },
     "execution_count": 11,
     "metadata": {},
     "output_type": "execute_result"
    }
   ],
   "source": [
    "is_in_list(a, 23), is_in_list(a, 68)"
   ]
  },
  {
   "cell_type": "markdown",
   "metadata": {},
   "source": [
    "---"
   ]
  },
  {
   "cell_type": "markdown",
   "metadata": {},
   "source": [
    "### <font color='Teal'>**Задача 34.** АЛГОРИТМЫ ПОИСКА И СОРТИРОВКИ\n",
    "\n",
    "<font size='3' color='#4281a4'>Необходимо отсортировать массив дат и вывести результат на экран. В зависимости от переданного параметра отсортировать массив дат по возрастанию или по убыванию даты, используя алгоритмы сортировки: сортировку выбором, сортировку пузырьком и быструю сортировку. Сравнить время выполнения алгоритмов сортировки с помощью декоратора. Даты хранятся в файле."
   ]
  },
  {
   "cell_type": "markdown",
   "metadata": {},
   "source": [
    "### <font color='Teal'>**Решение**"
   ]
  },
  {
   "cell_type": "code",
   "execution_count": 12,
   "metadata": {},
   "outputs": [
    {
     "data": {
      "text/plain": [
       "\"with open('some_file') as f:\\n    date_list = f.readline().split(',')\\n\\nfnc = lambda x: datetime.datetime(*list(map(int, x.split('-'))))\\ndate_list = list(map(fnc, date_list))\""
      ]
     },
     "execution_count": 12,
     "metadata": {},
     "output_type": "execute_result"
    }
   ],
   "source": [
    "'''with open('some_file') as f:\n",
    "    date_list = f.readline().split(',')\n",
    "\n",
    "fnc = lambda x: datetime.datetime(*list(map(int, x.split('-'))))\n",
    "date_list = list(map(fnc, date_list))'''"
   ]
  },
  {
   "cell_type": "code",
   "execution_count": 13,
   "metadata": {},
   "outputs": [
    {
     "data": {
      "text/plain": [
       "array([datetime.datetime(2021, 8, 14, 8, 51, 34, 195008),\n",
       "       datetime.datetime(2023, 5, 21, 8, 51, 34, 195008),\n",
       "       datetime.datetime(2022, 1, 5, 8, 51, 34, 195008),\n",
       "       datetime.datetime(2023, 5, 24, 8, 51, 34, 195008),\n",
       "       datetime.datetime(2022, 12, 25, 8, 51, 34, 195008),\n",
       "       datetime.datetime(2022, 5, 25, 8, 51, 34, 195008),\n",
       "       datetime.datetime(2020, 1, 24, 8, 51, 34, 195008),\n",
       "       datetime.datetime(2022, 9, 16, 8, 51, 34, 195008),\n",
       "       datetime.datetime(2022, 11, 13, 8, 51, 34, 195008),\n",
       "       datetime.datetime(2022, 11, 25, 8, 51, 34, 195008),\n",
       "       datetime.datetime(2022, 3, 2, 8, 51, 34, 195008),\n",
       "       datetime.datetime(2023, 5, 11, 8, 51, 34, 195008),\n",
       "       datetime.datetime(2021, 5, 19, 8, 51, 34, 195008),\n",
       "       datetime.datetime(2023, 3, 13, 8, 51, 34, 195008),\n",
       "       datetime.datetime(2023, 1, 30, 8, 51, 34, 195008),\n",
       "       datetime.datetime(2022, 10, 28, 8, 51, 34, 195008),\n",
       "       datetime.datetime(2021, 6, 3, 8, 51, 34, 195008),\n",
       "       datetime.datetime(2022, 8, 25, 8, 51, 34, 195008),\n",
       "       datetime.datetime(2021, 11, 20, 8, 51, 34, 195008),\n",
       "       datetime.datetime(2022, 1, 14, 8, 51, 34, 195008)], dtype=object)"
      ]
     },
     "execution_count": 13,
     "metadata": {},
     "output_type": "execute_result"
    }
   ],
   "source": [
    "base = datetime.datetime.today()\n",
    "epoch_time = datetime.datetime(1970, 1, 4)\n",
    "date_list = np.array([base - datetime.timedelta(days=(x*random.randint(1, 75))) for x in range(20)])\n",
    "random.shuffle(date_list)\n",
    "date_list"
   ]
  },
  {
   "cell_type": "code",
   "execution_count": 14,
   "metadata": {},
   "outputs": [],
   "source": [
    "# декоратор, измеряющий время выполнения функции и выводящий его на экран\n",
    "def measure_time(func):\n",
    "    def wrapper(*args, **kwargs):\n",
    "        start = time.time()\n",
    "        result = func(*args, **kwargs)\n",
    "        end = time.time()\n",
    "        print(f\"Время выполнения функции {func.__name__}: {end - start:.8f} сек.\\n\")\n",
    "        return result\n",
    "    return wrapper"
   ]
  },
  {
   "cell_type": "code",
   "execution_count": 18,
   "metadata": {},
   "outputs": [],
   "source": [
    "def quick_sort(arr, reverse=False):\n",
    "    if len(arr) <= 1:\n",
    "        return arr\n",
    "    else:\n",
    "        pivot = arr[0]\n",
    "        left = []\n",
    "        right = []\n",
    "        for i in range(1, len(arr)):\n",
    "            if arr[i] < pivot:\n",
    "                left.append(arr[i])\n",
    "            else:\n",
    "                right.append(arr[i])\n",
    "        if reverse:\n",
    "            return quick_sort(right, reverse=True) + [pivot] + quick_sort(left, reverse=True)\n",
    "        else:\n",
    "            return quick_sort(left) + [pivot] + quick_sort(right)"
   ]
  },
  {
   "cell_type": "code",
   "execution_count": 19,
   "metadata": {},
   "outputs": [],
   "source": [
    "@measure_time\n",
    "def ff(date_list):\n",
    "    return quick_sort(date_list)"
   ]
  },
  {
   "cell_type": "code",
   "execution_count": 21,
   "metadata": {},
   "outputs": [
    {
     "name": "stdout",
     "output_type": "stream",
     "text": [
      "Время выполнения функции ff: 0.00010490 сек.\n",
      "\n"
     ]
    },
    {
     "data": {
      "text/plain": [
       "[datetime.datetime(2020, 1, 24, 8, 51, 34, 195008),\n",
       " datetime.datetime(2021, 5, 19, 8, 51, 34, 195008),\n",
       " datetime.datetime(2021, 6, 3, 8, 51, 34, 195008),\n",
       " datetime.datetime(2021, 8, 14, 8, 51, 34, 195008),\n",
       " datetime.datetime(2021, 11, 20, 8, 51, 34, 195008),\n",
       " datetime.datetime(2022, 1, 5, 8, 51, 34, 195008),\n",
       " datetime.datetime(2022, 1, 14, 8, 51, 34, 195008),\n",
       " datetime.datetime(2022, 3, 2, 8, 51, 34, 195008),\n",
       " datetime.datetime(2022, 5, 25, 8, 51, 34, 195008),\n",
       " datetime.datetime(2022, 8, 25, 8, 51, 34, 195008),\n",
       " datetime.datetime(2022, 9, 16, 8, 51, 34, 195008),\n",
       " datetime.datetime(2022, 10, 28, 8, 51, 34, 195008),\n",
       " datetime.datetime(2022, 11, 13, 8, 51, 34, 195008),\n",
       " datetime.datetime(2022, 11, 25, 8, 51, 34, 195008),\n",
       " datetime.datetime(2022, 12, 25, 8, 51, 34, 195008),\n",
       " datetime.datetime(2023, 1, 30, 8, 51, 34, 195008),\n",
       " datetime.datetime(2023, 3, 13, 8, 51, 34, 195008),\n",
       " datetime.datetime(2023, 5, 11, 8, 51, 34, 195008),\n",
       " datetime.datetime(2023, 5, 21, 8, 51, 34, 195008),\n",
       " datetime.datetime(2023, 5, 24, 8, 51, 34, 195008)]"
      ]
     },
     "execution_count": 21,
     "metadata": {},
     "output_type": "execute_result"
    }
   ],
   "source": [
    "reserved_data = date_list.copy()\n",
    "srt = ff(date_list)\n",
    "srt"
   ]
  },
  {
   "cell_type": "code",
   "execution_count": 28,
   "metadata": {},
   "outputs": [],
   "source": [
    "@measure_time\n",
    "def selection_sort(arr, reverse=False):\n",
    "    n = len(arr)\n",
    "    for i in range(n):\n",
    "        min_idx = i\n",
    "        for j in range(i + 1, n):\n",
    "            if reverse:\n",
    "                if arr[j] > arr[min_idx]:\n",
    "                    min_idx = j\n",
    "            else:\n",
    "                if arr[j] < arr[min_idx]:\n",
    "                    min_idx = j\n",
    "        arr[i], arr[min_idx] = arr[min_idx], arr[i]\n",
    "    return arr"
   ]
  },
  {
   "cell_type": "code",
   "execution_count": 29,
   "metadata": {},
   "outputs": [
    {
     "name": "stdout",
     "output_type": "stream",
     "text": [
      "Время выполнения функции selection_sort: 0.00020099 сек.\n",
      "\n"
     ]
    },
    {
     "data": {
      "text/plain": [
       "array([datetime.datetime(2020, 12, 1, 8, 43, 9, 73229),\n",
       "       datetime.datetime(2021, 1, 27, 8, 43, 9, 73229),\n",
       "       datetime.datetime(2021, 3, 24, 8, 43, 9, 73229),\n",
       "       datetime.datetime(2021, 6, 11, 8, 43, 9, 73229),\n",
       "       datetime.datetime(2021, 9, 21, 8, 43, 9, 73229),\n",
       "       datetime.datetime(2021, 10, 2, 8, 43, 9, 73229),\n",
       "       datetime.datetime(2021, 12, 27, 8, 43, 9, 73229),\n",
       "       datetime.datetime(2021, 12, 29, 8, 43, 9, 73229),\n",
       "       datetime.datetime(2022, 1, 26, 8, 43, 9, 73229),\n",
       "       datetime.datetime(2022, 3, 30, 8, 43, 9, 73229),\n",
       "       datetime.datetime(2022, 5, 7, 8, 43, 9, 73229),\n",
       "       datetime.datetime(2022, 5, 10, 8, 43, 9, 73229),\n",
       "       datetime.datetime(2022, 10, 1, 8, 43, 9, 73229),\n",
       "       datetime.datetime(2022, 10, 9, 8, 43, 9, 73229),\n",
       "       datetime.datetime(2022, 10, 19, 8, 43, 9, 73229),\n",
       "       datetime.datetime(2022, 11, 22, 8, 43, 9, 73229),\n",
       "       datetime.datetime(2023, 4, 6, 8, 43, 9, 73229),\n",
       "       datetime.datetime(2023, 4, 23, 8, 43, 9, 73229),\n",
       "       datetime.datetime(2023, 5, 1, 8, 43, 9, 73229),\n",
       "       datetime.datetime(2023, 5, 17, 8, 43, 9, 73229)], dtype=object)"
      ]
     },
     "execution_count": 29,
     "metadata": {},
     "output_type": "execute_result"
    }
   ],
   "source": [
    "reserved_data = date_list.copy()\n",
    "srt = selection_sort(date_list)\n",
    "srt"
   ]
  },
  {
   "cell_type": "code",
   "execution_count": 30,
   "metadata": {},
   "outputs": [],
   "source": [
    "@measure_time\n",
    "def bubble_sort(arr, reverse=False):\n",
    "    n = len(arr)\n",
    "    for i in range(n):\n",
    "        for j in range(n - i - 1):\n",
    "            if not reverse:\n",
    "                if arr[j] > arr[j + 1]:\n",
    "                    arr[j], arr[j + 1] = arr[j + 1], arr[j]\n",
    "            else:\n",
    "                if arr[j] < arr[j + 1]:\n",
    "                    arr[j], arr[j + 1] = arr[j + 1], arr[j]\n",
    "    return arr"
   ]
  },
  {
   "cell_type": "code",
   "execution_count": 31,
   "metadata": {},
   "outputs": [
    {
     "name": "stdout",
     "output_type": "stream",
     "text": [
      "Время выполнения функции bubble_sort: 0.00010514 сек.\n",
      "\n"
     ]
    },
    {
     "data": {
      "text/plain": [
       "array([datetime.datetime(2020, 12, 1, 8, 43, 9, 73229),\n",
       "       datetime.datetime(2021, 1, 27, 8, 43, 9, 73229),\n",
       "       datetime.datetime(2021, 3, 24, 8, 43, 9, 73229),\n",
       "       datetime.datetime(2021, 6, 11, 8, 43, 9, 73229),\n",
       "       datetime.datetime(2021, 9, 21, 8, 43, 9, 73229),\n",
       "       datetime.datetime(2021, 10, 2, 8, 43, 9, 73229),\n",
       "       datetime.datetime(2021, 12, 27, 8, 43, 9, 73229),\n",
       "       datetime.datetime(2021, 12, 29, 8, 43, 9, 73229),\n",
       "       datetime.datetime(2022, 1, 26, 8, 43, 9, 73229),\n",
       "       datetime.datetime(2022, 3, 30, 8, 43, 9, 73229),\n",
       "       datetime.datetime(2022, 5, 7, 8, 43, 9, 73229),\n",
       "       datetime.datetime(2022, 5, 10, 8, 43, 9, 73229),\n",
       "       datetime.datetime(2022, 10, 1, 8, 43, 9, 73229),\n",
       "       datetime.datetime(2022, 10, 9, 8, 43, 9, 73229),\n",
       "       datetime.datetime(2022, 10, 19, 8, 43, 9, 73229),\n",
       "       datetime.datetime(2022, 11, 22, 8, 43, 9, 73229),\n",
       "       datetime.datetime(2023, 4, 6, 8, 43, 9, 73229),\n",
       "       datetime.datetime(2023, 4, 23, 8, 43, 9, 73229),\n",
       "       datetime.datetime(2023, 5, 1, 8, 43, 9, 73229),\n",
       "       datetime.datetime(2023, 5, 17, 8, 43, 9, 73229)], dtype=object)"
      ]
     },
     "execution_count": 31,
     "metadata": {},
     "output_type": "execute_result"
    }
   ],
   "source": [
    "reserved_data = date_list.copy()\n",
    "srt = bubble_sort(reserved_data)\n",
    "srt"
   ]
  },
  {
   "cell_type": "markdown",
   "metadata": {},
   "source": [
    "---"
   ]
  },
  {
   "cell_type": "markdown",
   "metadata": {},
   "source": [
    "### <font color='Teal'>**Задача 35.** ДЕРЕВЬЯ\n",
    "\n",
    "<font size='3' color='#4281a4'>Реализовать класс бинарного дерева. Написать функцию для нахождения всех узлов, которые имеют двух потомков в бинарном дереве."
   ]
  },
  {
   "cell_type": "markdown",
   "metadata": {},
   "source": [
    "### <font color='Teal'>**Решение**"
   ]
  },
  {
   "cell_type": "code",
   "execution_count": null,
   "metadata": {},
   "outputs": [],
   "source": []
  },
  {
   "cell_type": "markdown",
   "metadata": {},
   "source": [
    "---"
   ]
  },
  {
   "cell_type": "markdown",
   "metadata": {},
   "source": [
    "### <font color='Teal'>**Задача 36.** ХЕШ-ТАБЛИЦЫ\n",
    "\n",
    "<font size='3' color='#4281a4'>**Задание 1.** Создать класс «Фильм» с полями «Название», «Режиссер», «Год выпуска» и «Жанр». Создать хеш-таблицу для хранения объектов класса «Фильм» по ключу — названию фильма.<br /><br />**Задание 2.** Написать функцию для нахождения элемента в хеш-таблице, который наиболее близок по значению к заданному числу.<br /><br />**Задание 3.** Реализуйте хеш-таблицу для хранения информации о пациентах в больнице. Ключом является номер медицинской карты, значение — объект, содержащий информацию о пациенте (ФИО, диагноз, лечение и т.д.). Используйте метод разрешения коллизий методом открытой адресации с квадратичным пробированием."
   ]
  },
  {
   "cell_type": "markdown",
   "metadata": {},
   "source": [
    "### <font color='Teal'>**Решение**"
   ]
  },
  {
   "cell_type": "code",
   "execution_count": null,
   "metadata": {},
   "outputs": [],
   "source": []
  },
  {
   "cell_type": "markdown",
   "metadata": {},
   "source": [
    "---"
   ]
  }
 ],
 "metadata": {
  "kernelspec": {
   "display_name": "Python 3 (ipykernel)",
   "language": "python",
   "name": "python3"
  },
  "language_info": {
   "codemirror_mode": {
    "name": "ipython",
    "version": 3
   },
   "file_extension": ".py",
   "mimetype": "text/x-python",
   "name": "python",
   "nbconvert_exporter": "python",
   "pygments_lexer": "ipython3",
   "version": "3.9.13"
  }
 },
 "nbformat": 4,
 "nbformat_minor": 4
}
