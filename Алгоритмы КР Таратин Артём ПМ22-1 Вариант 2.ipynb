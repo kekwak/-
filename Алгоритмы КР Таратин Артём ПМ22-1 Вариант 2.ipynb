{
 "cells": [
  {
   "cell_type": "markdown",
   "id": "96616bc2",
   "metadata": {},
   "source": [
    "## Таратин Артём Андреевич ПМ22-1 2 Вариант"
   ]
  },
  {
   "cell_type": "code",
   "execution_count": 217,
   "id": "71486cc9",
   "metadata": {},
   "outputs": [],
   "source": [
    "from functools import reduce\n",
    "import numpy as np\n",
    "import random"
   ]
  },
  {
   "cell_type": "markdown",
   "id": "ddeadee1",
   "metadata": {},
   "source": [
    "Задача 1:\n",
    "Создать класс «Продукт», который будет содержать следующие атрибуты: название продукта, цена, количество на складе. \n",
    "Класс должен иметь методы:\n",
    "get_name() — возвращает название продукта;\n",
    "get_price() — возвращает цену продукта;\n",
    "get_quantity() — возвращает количество продукта на складе;\n",
    "add_quantity(amount) — увеличивает количество продукта на заданное значение;\n",
    "remove_quantity(amount) — уменьшает количество продукта на заданное значение.\n",
    "\n",
    "\n",
    "Задача 2:\n",
    "Создайте класс ТОВАР, который будет содержать информацию о товаре (название, цена, количество на складе). У класса должен быть метод, позволяющий вывести на экран информацию о товаре, а также метод, позволяющий определить, является ли данный товар искомым. Создайте дочерние классы ОДЕЖДА (размер), ЭЛЕКТРОНИКА (гарантия) со своими методами вывода информации на экран. Создайте список из N товаров, выведите полную информацию из списка, а также организуйте поиск товаров по названию. \n",
    "\n",
    "\n",
    "Задача 3:\n",
    "Напишите функцию, которая принимает список чисел и возвращает список чисел, которые больше среднего значения списка.\n",
    "Напишите функцию, которая принимает список строк и возвращает наиболее часто встречающуюся строку в списке."
   ]
  },
  {
   "cell_type": "markdown",
   "id": "97082e61",
   "metadata": {},
   "source": [
    "## №1"
   ]
  },
  {
   "cell_type": "code",
   "execution_count": 218,
   "id": "f3384ac9",
   "metadata": {},
   "outputs": [],
   "source": [
    "class product(object):\n",
    "    def __init__(self, name, cost, quant):\n",
    "        self.name = name\n",
    "        self.cost = int(cost)\n",
    "        self.quant = int(quant)\n",
    "    \n",
    "    def get_name(self):\n",
    "        return self.name\n",
    "    \n",
    "    def get_price(self):\n",
    "        return self.cost\n",
    "    \n",
    "    def get_quantity(self):\n",
    "        return self.quant\n",
    "    \n",
    "    def add_quantity(self, amount):\n",
    "        if int(amount) > 0:\n",
    "            self.quant += int(amount)\n",
    "            \n",
    "    def remove_quantity(self, amount):\n",
    "        if amount > 0 and self.quant - amount >= 0:\n",
    "            self.quant -= amount"
   ]
  },
  {
   "cell_type": "code",
   "execution_count": 219,
   "id": "fc2c6b8b",
   "metadata": {},
   "outputs": [],
   "source": [
    "p1 = product('moloko', 42, 19)"
   ]
  },
  {
   "cell_type": "code",
   "execution_count": 220,
   "id": "55937dbb",
   "metadata": {},
   "outputs": [
    {
     "data": {
      "text/plain": [
       "('moloko', 42, 19)"
      ]
     },
     "execution_count": 220,
     "metadata": {},
     "output_type": "execute_result"
    }
   ],
   "source": [
    "p1.get_name(), p1.get_price(), p1.get_quantity()"
   ]
  },
  {
   "cell_type": "code",
   "execution_count": 221,
   "id": "dae0c21b",
   "metadata": {},
   "outputs": [
    {
     "data": {
      "text/plain": [
       "24"
      ]
     },
     "execution_count": 221,
     "metadata": {},
     "output_type": "execute_result"
    }
   ],
   "source": [
    "p1.add_quantity(5)\n",
    "p1.get_quantity()"
   ]
  },
  {
   "cell_type": "code",
   "execution_count": 222,
   "id": "2e2604c1",
   "metadata": {},
   "outputs": [
    {
     "data": {
      "text/plain": [
       "19"
      ]
     },
     "execution_count": 222,
     "metadata": {},
     "output_type": "execute_result"
    }
   ],
   "source": [
    "p1.remove_quantity(5)\n",
    "p1.get_quantity()"
   ]
  },
  {
   "cell_type": "markdown",
   "id": "61c01519",
   "metadata": {},
   "source": [
    "## №2"
   ]
  },
  {
   "cell_type": "code",
   "execution_count": 223,
   "id": "b055338e",
   "metadata": {},
   "outputs": [],
   "source": [
    "class tovar(object):\n",
    "    def __init__(self, name, cost, quant):\n",
    "        self.name = name\n",
    "        self.cost = int(cost)\n",
    "        self.quant = int(quant)\n",
    "        \n",
    "    def info(self):\n",
    "        return f'Name: {self.name}, Cost: {self.cost}, Quantity: {self.quant}'\n",
    "    \n",
    "    def is_equal(self, name='', cost='', quant=''):\n",
    "        if (name=='' or self.name==name) and (cost=='' or self.cost==cost) and (quant=='' or self.quant==quant):\n",
    "            return 1\n",
    "        return 0"
   ]
  },
  {
   "cell_type": "code",
   "execution_count": 224,
   "id": "adc9f577",
   "metadata": {},
   "outputs": [],
   "source": [
    "class clothes(tovar):\n",
    "    def __init__(self, name, cost, quant, size):\n",
    "        super().__init__(name, cost, quant)\n",
    "        self.size = size\n",
    "        \n",
    "    def info(self):\n",
    "        return f'{super().info()}, Size: {self.size}'\n",
    "    \n",
    "class technic(tovar):\n",
    "    def __init__(self, name, cost, quant, garant):\n",
    "        super().__init__(name, cost, quant)\n",
    "        self.garant = garant\n",
    "        \n",
    "    def info(self):\n",
    "        return f'{super().info()}, Garantie: {self.garant}'"
   ]
  },
  {
   "cell_type": "code",
   "execution_count": 225,
   "id": "aa338a09",
   "metadata": {},
   "outputs": [
    {
     "data": {
      "text/plain": [
       "'Name: Chburek, Cost: 14, Quantity: 59'"
      ]
     },
     "execution_count": 225,
     "metadata": {},
     "output_type": "execute_result"
    }
   ],
   "source": [
    "c = tovar('Chburek', 14, 59)\n",
    "c.info()"
   ]
  },
  {
   "cell_type": "code",
   "execution_count": 226,
   "id": "bb323292",
   "metadata": {},
   "outputs": [
    {
     "data": {
      "text/plain": [
       "(1, 0)"
      ]
     },
     "execution_count": 226,
     "metadata": {},
     "output_type": "execute_result"
    }
   ],
   "source": [
    "c.is_equal(name='Chburek', cost=14), c.is_equal(name='Chburek', cost=44)"
   ]
  },
  {
   "cell_type": "code",
   "execution_count": 227,
   "id": "1190a59c",
   "metadata": {},
   "outputs": [
    {
     "data": {
      "text/plain": [
       "('Name: Rubashka, Cost: 1400, Quantity: 33, Size: 44',\n",
       " 'Name: Monitor, Cost: 14500, Quantity: 5, Garantie: 365')"
      ]
     },
     "execution_count": 227,
     "metadata": {},
     "output_type": "execute_result"
    }
   ],
   "source": [
    "a = clothes('Rubashka', 1400, 33, 44)\n",
    "b = technic('Monitor', 14500, 5, 365)\n",
    "\n",
    "a.info(), b.info()"
   ]
  },
  {
   "cell_type": "code",
   "execution_count": 228,
   "id": "960844bc",
   "metadata": {},
   "outputs": [
    {
     "data": {
      "text/plain": [
       "[<__main__.clothes at 0x7f8718032460>,\n",
       " <__main__.technic at 0x7f872828e730>,\n",
       " <__main__.tovar at 0x7f872828e610>]"
      ]
     },
     "execution_count": 228,
     "metadata": {},
     "output_type": "execute_result"
    }
   ],
   "source": [
    "ls = [a, b, c] # экзмпляры класса\n",
    "ls"
   ]
  },
  {
   "cell_type": "code",
   "execution_count": 229,
   "id": "2804a596",
   "metadata": {},
   "outputs": [
    {
     "data": {
      "text/plain": [
       "['Name: Rubashka, Cost: 1400, Quantity: 33, Size: 44',\n",
       " 'Name: Monitor, Cost: 14500, Quantity: 5, Garantie: 365',\n",
       " 'Name: Chburek, Cost: 14, Quantity: 59']"
      ]
     },
     "execution_count": 229,
     "metadata": {},
     "output_type": "execute_result"
    }
   ],
   "source": [
    "list(map(lambda x: x.info(), ls)) # вывод информации"
   ]
  },
  {
   "cell_type": "code",
   "execution_count": 230,
   "id": "fca4e8b6",
   "metadata": {},
   "outputs": [
    {
     "data": {
      "text/plain": [
       "([<__main__.clothes at 0x7f8718032460>],\n",
       " 'Name: Rubashka, Cost: 1400, Quantity: 33, Size: 44')"
      ]
     },
     "execution_count": 230,
     "metadata": {},
     "output_type": "execute_result"
    }
   ],
   "source": [
    "f = lambda name: list(filter(lambda x: x.name == name, ls))\n",
    "f('Rubashka'), f('Rubashka')[0].info() # сортировка с возвращением эксемпляров классов"
   ]
  },
  {
   "cell_type": "markdown",
   "id": "24680375",
   "metadata": {},
   "source": [
    "## №3.1"
   ]
  },
  {
   "cell_type": "code",
   "execution_count": 231,
   "id": "34d0ce8e",
   "metadata": {},
   "outputs": [
    {
     "data": {
      "text/plain": [
       "(array([76, 44,  5, 20, 91, 94, 84, 15, 91, 34]), 55.4)"
      ]
     },
     "execution_count": 231,
     "metadata": {},
     "output_type": "execute_result"
    }
   ],
   "source": [
    "n = np.random.randint(0, 100, 10)\n",
    "n, n.mean()"
   ]
  },
  {
   "cell_type": "code",
   "execution_count": 232,
   "id": "113d2104",
   "metadata": {},
   "outputs": [
    {
     "data": {
      "text/plain": [
       "[76, 91, 94, 84, 91]"
      ]
     },
     "execution_count": 232,
     "metadata": {},
     "output_type": "execute_result"
    }
   ],
   "source": [
    "f = lambda n: list(filter(lambda x: x > n.mean(), n))\n",
    "f(n)"
   ]
  },
  {
   "cell_type": "markdown",
   "id": "e9ecde4a",
   "metadata": {},
   "source": [
    "## №3.2"
   ]
  },
  {
   "cell_type": "code",
   "execution_count": 259,
   "id": "0738ae55",
   "metadata": {},
   "outputs": [
    {
     "data": {
      "text/plain": [
       "['1', 'dqqwdq', '1', 'qwewrty', 'dqqwdq', 'qwqqqqs', 'qwewrty', '1', '23']"
      ]
     },
     "execution_count": 259,
     "metadata": {},
     "output_type": "execute_result"
    }
   ],
   "source": [
    "sq = ['1', 'dqqwdq', '1', 'qwewrty', 'dqqwdq', 'qwqqqqs', 'qwewrty', '1', '23']\n",
    "sq"
   ]
  },
  {
   "cell_type": "code",
   "execution_count": 260,
   "id": "7743828c",
   "metadata": {},
   "outputs": [
    {
     "data": {
      "text/plain": [
       "'1'"
      ]
     },
     "execution_count": 260,
     "metadata": {},
     "output_type": "execute_result"
    }
   ],
   "source": [
    "f = lambda sp: list(map(lambda x: sp.count(x), sp))\n",
    "find = lambda sp: sp[f(sp).index(max(f(sp)))]\n",
    "find(sq)"
   ]
  },
  {
   "cell_type": "code",
   "execution_count": null,
   "id": "715da1b8",
   "metadata": {},
   "outputs": [],
   "source": []
  }
 ],
 "metadata": {
  "kernelspec": {
   "display_name": "Python 3 (ipykernel)",
   "language": "python",
   "name": "python3"
  },
  "language_info": {
   "codemirror_mode": {
    "name": "ipython",
    "version": 3
   },
   "file_extension": ".py",
   "mimetype": "text/x-python",
   "name": "python",
   "nbconvert_exporter": "python",
   "pygments_lexer": "ipython3",
   "version": "3.9.13"
  }
 },
 "nbformat": 4,
 "nbformat_minor": 5
}
